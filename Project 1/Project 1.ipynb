{
 "cells": [
  {
   "cell_type": "markdown",
   "id": "c13e9a72-d080-437f-b813-0b3191717c92",
   "metadata": {},
   "source": [
    "# PROJECT -1"
   ]
  },
  {
   "cell_type": "markdown",
   "id": "cf0b5375-0f0b-4207-a815-7ce9f029ab38",
   "metadata": {},
   "source": [
    "### 1. Data Loading"
   ]
  },
  {
   "cell_type": "markdown",
   "id": "e54a3a6f-6b20-487b-a654-2327f9169a54",
   "metadata": {},
   "source": [
    "#### a).Load the dataset using pandas."
   ]
  },
  {
   "cell_type": "code",
   "execution_count": 1,
   "id": "581a0167-b0cd-4b6f-9f4b-16d9c260cac3",
   "metadata": {},
   "outputs": [],
   "source": [
    "import pandas as pd"
   ]
  },
  {
   "cell_type": "code",
   "execution_count": 2,
   "id": "efdf728d-8e8f-4e67-af14-9d0e22afc571",
   "metadata": {},
   "outputs": [],
   "source": [
    "dataset = pd.read_csv(\"student.csv\", sep=\";\")"
   ]
  },
  {
   "cell_type": "markdown",
   "id": "bbe0afc9-1f2c-45fb-bf10-7ea4dd1ab80f",
   "metadata": {},
   "source": [
    "#### b). Display the first few rows using .head()."
   ]
  },
  {
   "cell_type": "code",
   "execution_count": 3,
   "id": "926bd8a6-28e0-4b57-a33a-2afcfe4cf3a1",
   "metadata": {},
   "outputs": [
    {
     "data": {
      "text/html": [
       "<div>\n",
       "<style scoped>\n",
       "    .dataframe tbody tr th:only-of-type {\n",
       "        vertical-align: middle;\n",
       "    }\n",
       "\n",
       "    .dataframe tbody tr th {\n",
       "        vertical-align: top;\n",
       "    }\n",
       "\n",
       "    .dataframe thead th {\n",
       "        text-align: right;\n",
       "    }\n",
       "</style>\n",
       "<table border=\"1\" class=\"dataframe\">\n",
       "  <thead>\n",
       "    <tr style=\"text-align: right;\">\n",
       "      <th></th>\n",
       "      <th>school</th>\n",
       "      <th>sex</th>\n",
       "      <th>age</th>\n",
       "      <th>address</th>\n",
       "      <th>famsize</th>\n",
       "      <th>Pstatus</th>\n",
       "      <th>Medu</th>\n",
       "      <th>Fedu</th>\n",
       "      <th>Mjob</th>\n",
       "      <th>Fjob</th>\n",
       "      <th>...</th>\n",
       "      <th>famrel</th>\n",
       "      <th>freetime</th>\n",
       "      <th>goout</th>\n",
       "      <th>Dalc</th>\n",
       "      <th>Walc</th>\n",
       "      <th>health</th>\n",
       "      <th>absences</th>\n",
       "      <th>G1</th>\n",
       "      <th>G2</th>\n",
       "      <th>G3</th>\n",
       "    </tr>\n",
       "  </thead>\n",
       "  <tbody>\n",
       "    <tr>\n",
       "      <th>0</th>\n",
       "      <td>GP</td>\n",
       "      <td>F</td>\n",
       "      <td>18</td>\n",
       "      <td>U</td>\n",
       "      <td>GT3</td>\n",
       "      <td>A</td>\n",
       "      <td>4</td>\n",
       "      <td>4</td>\n",
       "      <td>at_home</td>\n",
       "      <td>teacher</td>\n",
       "      <td>...</td>\n",
       "      <td>4</td>\n",
       "      <td>3</td>\n",
       "      <td>4</td>\n",
       "      <td>1</td>\n",
       "      <td>1</td>\n",
       "      <td>3</td>\n",
       "      <td>6</td>\n",
       "      <td>5</td>\n",
       "      <td>6</td>\n",
       "      <td>6</td>\n",
       "    </tr>\n",
       "    <tr>\n",
       "      <th>1</th>\n",
       "      <td>GP</td>\n",
       "      <td>F</td>\n",
       "      <td>17</td>\n",
       "      <td>U</td>\n",
       "      <td>GT3</td>\n",
       "      <td>T</td>\n",
       "      <td>1</td>\n",
       "      <td>1</td>\n",
       "      <td>at_home</td>\n",
       "      <td>other</td>\n",
       "      <td>...</td>\n",
       "      <td>5</td>\n",
       "      <td>3</td>\n",
       "      <td>3</td>\n",
       "      <td>1</td>\n",
       "      <td>1</td>\n",
       "      <td>3</td>\n",
       "      <td>4</td>\n",
       "      <td>5</td>\n",
       "      <td>5</td>\n",
       "      <td>6</td>\n",
       "    </tr>\n",
       "    <tr>\n",
       "      <th>2</th>\n",
       "      <td>GP</td>\n",
       "      <td>F</td>\n",
       "      <td>15</td>\n",
       "      <td>U</td>\n",
       "      <td>LE3</td>\n",
       "      <td>T</td>\n",
       "      <td>1</td>\n",
       "      <td>1</td>\n",
       "      <td>at_home</td>\n",
       "      <td>other</td>\n",
       "      <td>...</td>\n",
       "      <td>4</td>\n",
       "      <td>3</td>\n",
       "      <td>2</td>\n",
       "      <td>2</td>\n",
       "      <td>3</td>\n",
       "      <td>3</td>\n",
       "      <td>10</td>\n",
       "      <td>7</td>\n",
       "      <td>8</td>\n",
       "      <td>10</td>\n",
       "    </tr>\n",
       "    <tr>\n",
       "      <th>3</th>\n",
       "      <td>GP</td>\n",
       "      <td>F</td>\n",
       "      <td>15</td>\n",
       "      <td>U</td>\n",
       "      <td>GT3</td>\n",
       "      <td>T</td>\n",
       "      <td>4</td>\n",
       "      <td>2</td>\n",
       "      <td>health</td>\n",
       "      <td>services</td>\n",
       "      <td>...</td>\n",
       "      <td>3</td>\n",
       "      <td>2</td>\n",
       "      <td>2</td>\n",
       "      <td>1</td>\n",
       "      <td>1</td>\n",
       "      <td>5</td>\n",
       "      <td>2</td>\n",
       "      <td>15</td>\n",
       "      <td>14</td>\n",
       "      <td>15</td>\n",
       "    </tr>\n",
       "    <tr>\n",
       "      <th>4</th>\n",
       "      <td>GP</td>\n",
       "      <td>F</td>\n",
       "      <td>16</td>\n",
       "      <td>U</td>\n",
       "      <td>GT3</td>\n",
       "      <td>T</td>\n",
       "      <td>3</td>\n",
       "      <td>3</td>\n",
       "      <td>other</td>\n",
       "      <td>other</td>\n",
       "      <td>...</td>\n",
       "      <td>4</td>\n",
       "      <td>3</td>\n",
       "      <td>2</td>\n",
       "      <td>1</td>\n",
       "      <td>2</td>\n",
       "      <td>5</td>\n",
       "      <td>4</td>\n",
       "      <td>6</td>\n",
       "      <td>10</td>\n",
       "      <td>10</td>\n",
       "    </tr>\n",
       "  </tbody>\n",
       "</table>\n",
       "<p>5 rows × 33 columns</p>\n",
       "</div>"
      ],
      "text/plain": [
       "  school sex  age address famsize Pstatus  Medu  Fedu     Mjob      Fjob  ...  \\\n",
       "0     GP   F   18       U     GT3       A     4     4  at_home   teacher  ...   \n",
       "1     GP   F   17       U     GT3       T     1     1  at_home     other  ...   \n",
       "2     GP   F   15       U     LE3       T     1     1  at_home     other  ...   \n",
       "3     GP   F   15       U     GT3       T     4     2   health  services  ...   \n",
       "4     GP   F   16       U     GT3       T     3     3    other     other  ...   \n",
       "\n",
       "  famrel freetime  goout  Dalc  Walc health absences  G1  G2  G3  \n",
       "0      4        3      4     1     1      3        6   5   6   6  \n",
       "1      5        3      3     1     1      3        4   5   5   6  \n",
       "2      4        3      2     2     3      3       10   7   8  10  \n",
       "3      3        2      2     1     1      5        2  15  14  15  \n",
       "4      4        3      2     1     2      5        4   6  10  10  \n",
       "\n",
       "[5 rows x 33 columns]"
      ]
     },
     "execution_count": 3,
     "metadata": {},
     "output_type": "execute_result"
    }
   ],
   "source": [
    "dataset.head()"
   ]
  },
  {
   "cell_type": "markdown",
   "id": "39296395-adfe-427d-a55b-e90bdc008f54",
   "metadata": {},
   "source": [
    "### 2. Data Exploration"
   ]
  },
  {
   "cell_type": "markdown",
   "id": "02b691f9-1b97-4103-b999-deccb18cdf03",
   "metadata": {},
   "source": [
    "#### a). Check for missing values"
   ]
  },
  {
   "cell_type": "code",
   "execution_count": 4,
   "id": "de267de2-d472-4cf9-899b-74a29c30bf7e",
   "metadata": {},
   "outputs": [
    {
     "data": {
      "text/plain": [
       "school        0\n",
       "sex           0\n",
       "age           0\n",
       "address       0\n",
       "famsize       0\n",
       "Pstatus       0\n",
       "Medu          0\n",
       "Fedu          0\n",
       "Mjob          0\n",
       "Fjob          0\n",
       "reason        0\n",
       "guardian      0\n",
       "traveltime    0\n",
       "studytime     0\n",
       "failures      0\n",
       "schoolsup     0\n",
       "famsup        0\n",
       "paid          0\n",
       "activities    0\n",
       "nursery       0\n",
       "higher        0\n",
       "internet      0\n",
       "romantic      0\n",
       "famrel        0\n",
       "freetime      0\n",
       "goout         0\n",
       "Dalc          0\n",
       "Walc          0\n",
       "health        0\n",
       "absences      0\n",
       "G1            0\n",
       "G2            0\n",
       "G3            0\n",
       "dtype: int64"
      ]
     },
     "execution_count": 4,
     "metadata": {},
     "output_type": "execute_result"
    }
   ],
   "source": [
    "dataset.isnull().sum()"
   ]
  },
  {
   "cell_type": "markdown",
   "id": "3db70765-4f93-45db-9c63-cff2734c9ab3",
   "metadata": {},
   "source": [
    "#### b). Display column data types "
   ]
  },
  {
   "cell_type": "code",
   "execution_count": 5,
   "id": "b3b2d451-1fdc-40ac-a611-003d848b8047",
   "metadata": {},
   "outputs": [
    {
     "data": {
      "text/plain": [
       "school        object\n",
       "sex           object\n",
       "age            int64\n",
       "address       object\n",
       "famsize       object\n",
       "Pstatus       object\n",
       "Medu           int64\n",
       "Fedu           int64\n",
       "Mjob          object\n",
       "Fjob          object\n",
       "reason        object\n",
       "guardian      object\n",
       "traveltime     int64\n",
       "studytime      int64\n",
       "failures       int64\n",
       "schoolsup     object\n",
       "famsup        object\n",
       "paid          object\n",
       "activities    object\n",
       "nursery       object\n",
       "higher        object\n",
       "internet      object\n",
       "romantic      object\n",
       "famrel         int64\n",
       "freetime       int64\n",
       "goout          int64\n",
       "Dalc           int64\n",
       "Walc           int64\n",
       "health         int64\n",
       "absences       int64\n",
       "G1             int64\n",
       "G2             int64\n",
       "G3             int64\n",
       "dtype: object"
      ]
     },
     "execution_count": 5,
     "metadata": {},
     "output_type": "execute_result"
    }
   ],
   "source": [
    "dataset.dtypes"
   ]
  },
  {
   "cell_type": "markdown",
   "id": "87fec942-bd6b-4b0d-8577-8a52b7de20e5",
   "metadata": {},
   "source": [
    "#### c). dataset's size using .shape."
   ]
  },
  {
   "cell_type": "code",
   "execution_count": 6,
   "id": "85817151-d7fc-47f3-8480-cc3141e21e5b",
   "metadata": {},
   "outputs": [
    {
     "data": {
      "text/plain": [
       "(395, 33)"
      ]
     },
     "execution_count": 6,
     "metadata": {},
     "output_type": "execute_result"
    }
   ],
   "source": [
    "dataset.shape"
   ]
  },
  {
   "cell_type": "markdown",
   "id": "68b8c22b-30c2-449c-85e5-10e71b89671c",
   "metadata": {},
   "source": [
    "### 3. Data Cleaning"
   ]
  },
  {
   "cell_type": "markdown",
   "id": "486bf148-119d-447a-be65-7f02b0a097f2",
   "metadata": {},
   "source": [
    "#### a). Handle missing values"
   ]
  },
  {
   "cell_type": "code",
   "execution_count": 7,
   "id": "70121f19-2981-40c7-b873-c4915020017a",
   "metadata": {},
   "outputs": [],
   "source": [
    "dataset.fillna(dataset.median(numeric_only=True), inplace=True)"
   ]
  },
  {
   "cell_type": "markdown",
   "id": "c9e59989-4c56-4ed3-bd82-c35d41d47a44",
   "metadata": {},
   "source": [
    "#### b). Remove duplicate entries"
   ]
  },
  {
   "cell_type": "code",
   "execution_count": 8,
   "id": "608b2387-5df0-4d9d-98c4-810a74bdc492",
   "metadata": {},
   "outputs": [],
   "source": [
    "dataset.drop_duplicates(inplace=True)"
   ]
  },
  {
   "cell_type": "markdown",
   "id": "f2d2fef6-a1d7-42b3-b73e-c695e5a2b71b",
   "metadata": {},
   "source": [
    "### 4. Data Analysis Questions"
   ]
  },
  {
   "cell_type": "markdown",
   "id": "79192b10-e884-44b4-88ab-76f76226a8f3",
   "metadata": {},
   "source": [
    "#### a). What is the average score in math (G3)?"
   ]
  },
  {
   "cell_type": "code",
   "execution_count": 9,
   "id": "cda0fdda-47cc-4648-8900-0407d6ee2a65",
   "metadata": {},
   "outputs": [
    {
     "data": {
      "text/plain": [
       "10.415189873417722"
      ]
     },
     "execution_count": 9,
     "metadata": {},
     "output_type": "execute_result"
    }
   ],
   "source": [
    "avg_score_G3 = dataset[\"G3\"].mean()\n",
    "avg_score_G3"
   ]
  },
  {
   "cell_type": "markdown",
   "id": "05023962-d9ce-4c1b-81b1-024576532076",
   "metadata": {},
   "source": [
    "#### b). How many students scored above 15 in their final grade (G3)?"
   ]
  },
  {
   "cell_type": "code",
   "execution_count": 10,
   "id": "0ae33526-a0a6-4447-8def-6fd295cfe14b",
   "metadata": {},
   "outputs": [
    {
     "data": {
      "text/plain": [
       "40"
      ]
     },
     "execution_count": 10,
     "metadata": {},
     "output_type": "execute_result"
    }
   ],
   "source": [
    "scored_above_15_G3 = (dataset[\"G3\"] > 15).sum()\n",
    "scored_above_15_G3 "
   ]
  },
  {
   "cell_type": "markdown",
   "id": "28137566-4dc0-4d1d-85d8-a7d4d776efd4",
   "metadata": {},
   "source": [
    "#### c). Is there a correlation between study time (study time) and the final grade (G3)?"
   ]
  },
  {
   "cell_type": "code",
   "execution_count": 11,
   "id": "60d99d93-9b24-4109-8b73-eb6acd3a0281",
   "metadata": {},
   "outputs": [],
   "source": [
    "import numpy as np"
   ]
  },
  {
   "cell_type": "code",
   "execution_count": 12,
   "id": "741e0f99-d709-42c4-ac99-449d0e851ce8",
   "metadata": {},
   "outputs": [
    {
     "data": {
      "text/plain": [
       "0.09781968965319626"
      ]
     },
     "execution_count": 12,
     "metadata": {},
     "output_type": "execute_result"
    }
   ],
   "source": [
    "dataset[\"studytime\"].corr(dataset[\"G3\"])"
   ]
  },
  {
   "cell_type": "markdown",
   "id": "e1720c22-2425-42e0-9ad9-0f1c64e62511",
   "metadata": {},
   "source": [
    "#### d). Which gender has a higher average final grade (G3)?"
   ]
  },
  {
   "cell_type": "code",
   "execution_count": 13,
   "id": "171fae68-cbe7-499e-92de-612813f3d3bb",
   "metadata": {},
   "outputs": [
    {
     "data": {
      "text/plain": [
       "sex\n",
       "F     9.966346\n",
       "M    10.914439\n",
       "Name: G3, dtype: float64"
      ]
     },
     "execution_count": 13,
     "metadata": {},
     "output_type": "execute_result"
    }
   ],
   "source": [
    "avg = dataset.groupby(\"sex\")[\"G3\"].mean()\n",
    "avg"
   ]
  },
  {
   "cell_type": "code",
   "execution_count": 14,
   "id": "7d169dbd-997d-45ce-91be-f3fd1d1f8c1c",
   "metadata": {},
   "outputs": [
    {
     "name": "stdout",
     "output_type": "stream",
     "text": [
      "Males have a higher average final grade.\n"
     ]
    }
   ],
   "source": [
    "if avg[\"F\"] > avg[\"M\"]:\n",
    "    print(\"Females have a higher average final grade.\")\n",
    "elif avg[\"F\"] < avg[\"M\"]:\n",
    "    print(\"Males have a higher average final grade.\")\n",
    "else:\n",
    "    print(\"Both genders have the same average final grade.\")"
   ]
  },
  {
   "cell_type": "markdown",
   "id": "2d580e00-d530-4b78-8e63-b971b132f789",
   "metadata": {},
   "source": [
    "### 5. Data Visualization"
   ]
  },
  {
   "cell_type": "markdown",
   "id": "9fc02fb8-d39b-47a6-81a8-9acf106c5182",
   "metadata": {},
   "source": [
    "#### a).Plot a histogram of final grades (G3)."
   ]
  },
  {
   "cell_type": "code",
   "execution_count": 15,
   "id": "29247051-3376-403c-914e-806b716d59da",
   "metadata": {},
   "outputs": [],
   "source": [
    "import matplotlib.pyplot as plt\n",
    "import seaborn as sns"
   ]
  },
  {
   "cell_type": "code",
   "execution_count": 16,
   "id": "229a3b6f-b8bd-4a37-97ed-7a821e139cc9",
   "metadata": {},
   "outputs": [
    {
     "data": {
      "image/png": "[encoded data removed]",
      "text/plain": [
       "<Figure size 640x480 with 1 Axes>"
      ]
     },
     "metadata": {},
     "output_type": "display_data"
    }
   ],
   "source": [
    "sns.histplot(data=dataset[\"G3\"], bins=10, kde = True)\n",
    "plt.title(\"Distribution of Final Grades (G3)\")\n",
    "plt.xlabel(\"Final Grade\")\n",
    "plt.ylabel(\"Frequency\")\n",
    "plt.show()"
   ]
  },
  {
   "cell_type": "markdown",
   "id": "8f5b1b09-9706-4dfa-8235-349304c7fe74",
   "metadata": {},
   "source": [
    "#### b). Create a scatter plot between study time (study time) and final grade (G3)."
   ]
  },
  {
   "cell_type": "code",
   "execution_count": 17,
   "id": "139998bf-1892-4bd7-968d-fdb895f50e81",
   "metadata": {},
   "outputs": [
    {
     "data": {
      "image/png": "[encoded data removed]",
      "text/plain": [
       "<Figure size 640x480 with 1 Axes>"
      ]
     },
     "metadata": {},
     "output_type": "display_data"
    }
   ],
   "source": [
    "plt.scatter(x=dataset[\"studytime\"], y = dataset[\"G3\"])\n",
    "plt.title(\"Scatter Plot\")\n",
    "plt.xlabel(\"Study time\")\n",
    "plt.ylabel(\"G3\")\n",
    "plt.show()"
   ]
  },
  {
   "cell_type": "markdown",
   "id": "72118033-7a2a-412c-830b-b63d2f97ca23",
   "metadata": {},
   "source": [
    "#### c). Create a bar chart comparing the average scores of male and female students."
   ]
  },
  {
   "cell_type": "code",
   "execution_count": 18,
   "id": "6a337eec-2462-47fa-a1ac-34bfe4cae150",
   "metadata": {},
   "outputs": [
    {
     "data": {
      "image/png": "[encoded data removed]",
      "text/plain": [
       "<Figure size 600x400 with 1 Axes>"
      ]
     },
     "metadata": {},
     "output_type": "display_data"
    }
   ],
   "source": [
    "plt.figure(figsize=(6,4))\n",
    "avg.plot(kind='bar', color=['blue', 'pink'])\n",
    "plt.title(\"Average Final Grade (G3) by Gender\")\n",
    "plt.ylabel(\"Average G3\")\n",
    "plt.show()"
   ]
  },
  {
   "cell_type": "code",
   "execution_count": null,
   "id": "0d655cf9-3527-49ba-9b16-fd45cf6d65fe",
   "metadata": {},
   "outputs": [],
   "source": []
  }
 ],
 "metadata": {
  "kernelspec": {
   "display_name": "Python 3 (ipykernel)",
   "language": "python",
   "name": "python3"
  },
  "language_info": {
   "codemirror_mode": {
    "name": "ipython",
    "version": 3
   },
   "file_extension": ".py",
   "mimetype": "text/x-python",
   "name": "python",
   "nbconvert_exporter": "python",
   "pygments_lexer": "ipython3",
   "version": "3.12.7"
  }
 },
 "nbformat": 4,
 "nbformat_minor": 5
}
